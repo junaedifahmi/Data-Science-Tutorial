{
  "nbformat": 4,
  "nbformat_minor": 0,
  "metadata": {
    "colab": {
      "name": "Pengenalan Data Science.ipynb",
      "version": "0.3.2",
      "provenance": [],
      "collapsed_sections": [],
      "toc_visible": true,
      "include_colab_link": true
    },
    "kernelspec": {
      "name": "python3",
      "display_name": "Python 3"
    }
  },
  "cells": [
    {
      "cell_type": "markdown",
      "metadata": {
        "id": "view-in-github",
        "colab_type": "text"
      },
      "source": [
        "<a href=\"https://colab.research.google.com/github/juunnn/DataScienceTutorial/blob/master/Pengenalan_Data_Science.ipynb\" target=\"_parent\"><img src=\"https://colab.research.google.com/assets/colab-badge.svg\" alt=\"Open In Colab\"/></a>"
      ]
    },
    {
      "cell_type": "markdown",
      "metadata": {
        "id": "qVbCqBJqqnZZ",
        "colab_type": "text"
      },
      "source": [
        "# Pengenalan Proses Data Science"
      ]
    },
    {
      "cell_type": "markdown",
      "metadata": {
        "id": "S77Bz02qqnZa",
        "colab_type": "text"
      },
      "source": [
        "## Main Process"
      ]
    },
    {
      "cell_type": "markdown",
      "metadata": {
        "id": "0rBUomgaqnZb",
        "colab_type": "text"
      },
      "source": [
        "Jadi kan proses dalam data science itu biasa dibagi menjadi 5 proses.\n",
        "    1. Pemahaman Bisnis\n",
        "    2. Preprocessing Data\n",
        "    3. Modeling\n",
        "    4. Evaluation\n",
        "    5. Deployment\n",
        "\n",
        "Nah biasanya Pemahaman bisnis itu gak bisa dilakukan sendiri oleh data scientis (kita) aja, tapi harus melibatkan orang-orang yang paham mengenai bisnis. Bisnis disini bukan cuma bisnis yang menghasilkan uang, tapi bisnis yang tidak menghasilkan uang tapi memiliki tujuan keorganisasian. Pada tahap ini biasanya kita harus didampingi oleh orang bisnis atau bisa juga disebut *domain expert*, orang yang paham mengenai bisnis tersebut. Misalnya kalau kita mau membuat sentimen analisis menggunakan text mining tentang gojek atau grab, kita bisa cari twitter yang berkaitan tentang gojek dan grab, tapi untuk menentukan sentimen dari twitter tersebut, kita gak bisa sembarangan menentukan sentimen dari pendapat pribadi, harus ada ahli bahasa atau ahli twitter yang memang kerjaannya fokus untuk menentukan bahwa kalimat di twitter tersebut memiliki sentimen positif atau negatif."
      ]
    },
    {
      "cell_type": "markdown",
      "metadata": {
        "id": "TZzkE9spqnZc",
        "colab_type": "text"
      },
      "source": [
        "Kalau Preprocessing Data ini yang agak kompleks, karena kita bisa menjelaskan teknik-tekniknya, tapi kita gak bisa menentukan teknik apa yang seharusnya dipake. Setiap data tidak bisa diperlakukan secara sama, tetapi masing-masing data harus diperlakukan sesuai dengan keadaan data tersebut dan sesuai dengan tujuan bisnis. Ini akan kita bahas nanti di segmen khusus ya, untuk saat ini kita akan fokus ke main proses aja dulu."
      ]
    },
    {
      "cell_type": "markdown",
      "metadata": {
        "id": "wDDdTBnVqnZd",
        "colab_type": "text"
      },
      "source": [
        "Main proses dalam data science, machine learning atau data mining itu hampir mirip. Intinya kita mau buat model untuk melakukan _task_ (klasifikasi, klustering atau regresi). Proses ini biasanya dilakukan secara iteratif atau berulang-ulang. Jadi jarang banget kita buat suatu model, dilatih terus jadi. Itu jarang banget terjadi, dan kalaupun terjadi seperti itu, kita harus curiga sama data yang kita punya."
      ]
    },
    {
      "cell_type": "markdown",
      "metadata": {
        "id": "ObJwpWAyqnZe",
        "colab_type": "text"
      },
      "source": [
        "Di tutorial ini kita akan melakukan klasifikasi yang biasa dulu deh ya, kita coba pake data yang sudah ada. Oke kita siapkan bahan-bahannya dulu ya!"
      ]
    },
    {
      "cell_type": "markdown",
      "metadata": {
        "id": "jrgZp4QWqnZf",
        "colab_type": "text"
      },
      "source": [
        "# Siapkan bahan\n",
        "Nah sebelum mulai, pastikan bahwa python kamu sudah tersinstall. Kemudian pastikan lagi bahwa **pip** atau **pip3** kamu sudah terinstall.\n",
        "Kalau sudah, ini package yang harus ada sebelum kita bisa mulai.\n",
        "1. pandas\n",
        "2. numpy\n",
        "3. sklearn\n",
        "4. matplotlib\n",
        "5. seaborn"
      ]
    },
    {
      "cell_type": "markdown",
      "metadata": {
        "id": "Lj9RYtMDqnZg",
        "colab_type": "text"
      },
      "source": [
        "## Pandas\n",
        "Pandas ini berguna untuk mengolah data yang kita punya. Misal kita punya punya data lokal yang bertipe csv, xls atau h5. Dengan pandas kita dapat mengambil data itu dengan mudah, tidak perlu tools tambahan lainnya. Selain itu juga, pandas biasa berguna untuk melakukan manipulasi terhadap atribut yang kita punya, bisa untuk feature engineering juga. Bahasan itu nanti kita bahas di segmen preprocesing ya. Untuk saat ini kita berasumsi bahwa data yang akan digunakan sudah melewati fase preprocessing, jadi sudah siap untuk digunakan. Kalau data yang kita punya biasanya belum melalui proses preprocesing, jadi gak bisa asal masukkin aja. Sip"
      ]
    },
    {
      "cell_type": "markdown",
      "metadata": {
        "id": "XM-zjC-kqnZh",
        "colab_type": "text"
      },
      "source": [
        "## Numpy\n",
        "Di python, kita gak kenal yang namanya array, adanya list, itu juga gak bisa dianggap mirip, karena sifatnya beda sama array. Oleh sebab itu, kita biasa menggunakan numpy untuk melakukan operasi array itu. Tau kan array itu apa? kalau dibahasa matematika itu disebut vector. Tapi gak cuma vector aja, numpy juga bisa untuk merepresentasikan matriks dan tensor. Kalau secara teknis, numpy biasa digunakan untuk aljabar linear, tapi tenang aja, kita gak akan terlalu dalam membahas aljabar linearnya kok. Paling pengenalan yang sering dipakai aja di data science ini.\n",
        "\n",
        "__Fun Fact__\n",
        "Vektor itu adalah satu baris bilangan atau matrix dengan ukuran 1xn,\n",
        "Matriks itu adalah sekumpuluan bilangan yang membentuk segi empat, jadi ukurannya nxm,\n",
        "nah kalau tensor itu perluasan dari matriks, jadi kalau kita punya matriks yang dimensinya lebih dari 2, bisa disebut tensor."
      ]
    },
    {
      "cell_type": "markdown",
      "metadata": {
        "id": "XETkHbuGqnZi",
        "colab_type": "text"
      },
      "source": [
        "## SKlearn\n",
        "Nah ini inti dari tools data science kita, SKLearn itu sebuah modul atau package yang berisi algoritma data science siap pakai. Jadi kalau kita mau pakai algoritma SVM, Regresi Linear atau semacamnya itu kita harus ada ini. Tapi gak cuma algoritma data science aja sih, sklearn juga punya yang tools pembantu seperti evaluasi, spliting data scaling dan sebagainya. (apa pula itu, nanti kita bahas)"
      ]
    },
    {
      "cell_type": "markdown",
      "metadata": {
        "id": "9i-nVYINqnZj",
        "colab_type": "text"
      },
      "source": [
        "## Matplotlib & Seaborn\n",
        "Perlu kita ingat bahwa data science itu gak bisa berdiri sendiri, dan gak bisa cuma dilakukan sama orang IT, tapi juga melibatkan orang bisnis dan eksekutif. Untuk orang-orang yang sudah terbiasa liat layar komputer lama seperti kita mungkin gak masalah ketika harus liat banyak baris kode dan matriks yang panjang, tapi orang bisnis gak gitu. Nah kita gak mau dong, apa yang kita lakukan dengan perjuangan panjang seperti ini pada akhirnya akan berbuah duka, karena orang bisnis gak ngerti apa yang kita bahas. Makanya kita harus menyajikan hasil yang kita dapat itu secara lebih universal, salah satu caranya dengan menggunakan grafik atau visual. Matplotlib dan Seaborn sering digunakan untuk melakukan itu, jadi biar apa yang kita buat bisa dipahami sama orang yang backgroundnya bukan IT juga."
      ]
    },
    {
      "cell_type": "markdown",
      "metadata": {
        "id": "khbsJ18yqnZk",
        "colab_type": "text"
      },
      "source": [
        "Oke segitu dulu intronya, sekarang kita masuk ke prosesnya ya."
      ]
    },
    {
      "cell_type": "markdown",
      "metadata": {
        "id": "NRLuWiJvqnZl",
        "colab_type": "text"
      },
      "source": [
        "# Proses Modeling"
      ]
    },
    {
      "cell_type": "markdown",
      "metadata": {
        "id": "yh49xlYmqnZm",
        "colab_type": "text"
      },
      "source": [
        "## 1. Masukkan semua bahan\n",
        "Bahan-bahan yang kita punya kemudian harus kita masukkan ke dalam environtment yang sedang kita gunakan. caranya gampang, tinggal import aja selesai"
      ]
    },
    {
      "cell_type": "code",
      "metadata": {
        "id": "_u1Lsf00qnZn",
        "colab_type": "code",
        "colab": {}
      },
      "source": [
        "import pandas as pd\n",
        "import numpy as np\n",
        "import sklearn as skl\n",
        "import matplotlib.pyplot as plt\n",
        "import seaborn as sns"
      ],
      "execution_count": 0,
      "outputs": []
    },
    {
      "cell_type": "markdown",
      "metadata": {
        "id": "uDQK-80lqnZr",
        "colab_type": "text"
      },
      "source": [
        "## 2. Buat dataset\n",
        "Data yang tadi kita sudah lakuakan proses preprocesing, kemudian kita masukkan ke dalam environtment. Caranya gampang, kita gunakan pandas."
      ]
    },
    {
      "cell_type": "code",
      "metadata": {
        "id": "lj-6wiCZqnZs",
        "colab_type": "code",
        "outputId": "a8e344fe-77b8-4a93-e605-f49cdb614cd7",
        "colab": {
          "base_uri": "https://localhost:8080/",
          "height": 221
        }
      },
      "source": [
        "df = pd.read_csv(\"https://archive.ics.uci.edu/ml/machine-learning-databases/wine-quality/winequality-white.csv\",sep=\";\")\n",
        "df.head() # Melihat 5 data pertama"
      ],
      "execution_count": 0,
      "outputs": [
        {
          "output_type": "execute_result",
          "data": {
            "text/html": [
              "<div>\n",
              "<style scoped>\n",
              "    .dataframe tbody tr th:only-of-type {\n",
              "        vertical-align: middle;\n",
              "    }\n",
              "\n",
              "    .dataframe tbody tr th {\n",
              "        vertical-align: top;\n",
              "    }\n",
              "\n",
              "    .dataframe thead th {\n",
              "        text-align: right;\n",
              "    }\n",
              "</style>\n",
              "<table border=\"1\" class=\"dataframe\">\n",
              "  <thead>\n",
              "    <tr style=\"text-align: right;\">\n",
              "      <th></th>\n",
              "      <th>fixed acidity</th>\n",
              "      <th>volatile acidity</th>\n",
              "      <th>citric acid</th>\n",
              "      <th>residual sugar</th>\n",
              "      <th>chlorides</th>\n",
              "      <th>free sulfur dioxide</th>\n",
              "      <th>total sulfur dioxide</th>\n",
              "      <th>density</th>\n",
              "      <th>pH</th>\n",
              "      <th>sulphates</th>\n",
              "      <th>alcohol</th>\n",
              "      <th>quality</th>\n",
              "    </tr>\n",
              "  </thead>\n",
              "  <tbody>\n",
              "    <tr>\n",
              "      <th>0</th>\n",
              "      <td>7.0</td>\n",
              "      <td>0.27</td>\n",
              "      <td>0.36</td>\n",
              "      <td>20.7</td>\n",
              "      <td>0.045</td>\n",
              "      <td>45.0</td>\n",
              "      <td>170.0</td>\n",
              "      <td>1.0010</td>\n",
              "      <td>3.00</td>\n",
              "      <td>0.45</td>\n",
              "      <td>8.8</td>\n",
              "      <td>6</td>\n",
              "    </tr>\n",
              "    <tr>\n",
              "      <th>1</th>\n",
              "      <td>6.3</td>\n",
              "      <td>0.30</td>\n",
              "      <td>0.34</td>\n",
              "      <td>1.6</td>\n",
              "      <td>0.049</td>\n",
              "      <td>14.0</td>\n",
              "      <td>132.0</td>\n",
              "      <td>0.9940</td>\n",
              "      <td>3.30</td>\n",
              "      <td>0.49</td>\n",
              "      <td>9.5</td>\n",
              "      <td>6</td>\n",
              "    </tr>\n",
              "    <tr>\n",
              "      <th>2</th>\n",
              "      <td>8.1</td>\n",
              "      <td>0.28</td>\n",
              "      <td>0.40</td>\n",
              "      <td>6.9</td>\n",
              "      <td>0.050</td>\n",
              "      <td>30.0</td>\n",
              "      <td>97.0</td>\n",
              "      <td>0.9951</td>\n",
              "      <td>3.26</td>\n",
              "      <td>0.44</td>\n",
              "      <td>10.1</td>\n",
              "      <td>6</td>\n",
              "    </tr>\n",
              "    <tr>\n",
              "      <th>3</th>\n",
              "      <td>7.2</td>\n",
              "      <td>0.23</td>\n",
              "      <td>0.32</td>\n",
              "      <td>8.5</td>\n",
              "      <td>0.058</td>\n",
              "      <td>47.0</td>\n",
              "      <td>186.0</td>\n",
              "      <td>0.9956</td>\n",
              "      <td>3.19</td>\n",
              "      <td>0.40</td>\n",
              "      <td>9.9</td>\n",
              "      <td>6</td>\n",
              "    </tr>\n",
              "    <tr>\n",
              "      <th>4</th>\n",
              "      <td>7.2</td>\n",
              "      <td>0.23</td>\n",
              "      <td>0.32</td>\n",
              "      <td>8.5</td>\n",
              "      <td>0.058</td>\n",
              "      <td>47.0</td>\n",
              "      <td>186.0</td>\n",
              "      <td>0.9956</td>\n",
              "      <td>3.19</td>\n",
              "      <td>0.40</td>\n",
              "      <td>9.9</td>\n",
              "      <td>6</td>\n",
              "    </tr>\n",
              "  </tbody>\n",
              "</table>\n",
              "</div>"
            ],
            "text/plain": [
              "   fixed acidity  volatile acidity  citric acid  ...  sulphates  alcohol  quality\n",
              "0            7.0              0.27         0.36  ...       0.45      8.8        6\n",
              "1            6.3              0.30         0.34  ...       0.49      9.5        6\n",
              "2            8.1              0.28         0.40  ...       0.44     10.1        6\n",
              "3            7.2              0.23         0.32  ...       0.40      9.9        6\n",
              "4            7.2              0.23         0.32  ...       0.40      9.9        6\n",
              "\n",
              "[5 rows x 12 columns]"
            ]
          },
          "metadata": {
            "tags": []
          },
          "execution_count": 7
        }
      ]
    },
    {
      "cell_type": "markdown",
      "metadata": {
        "id": "goTHHu0OqnZy",
        "colab_type": "text"
      },
      "source": [
        "**df** itu sebagai variable tempat semua data kita disimpan. Setelah masuk proses ini istilah data itu berubah menjadi dataset (himpunan data) karena istilah ini akan lebih sering digunakan daripada istilah data. Dari dataset ini akan kita bagi menjadi dua yaitu data latih (training set) dan data uji (testing set).\n",
        "\n",
        "Data latih digunakan pada saat kita melakukan proses latihan modeling menggunakan algoritma yang kita pilih. Biasanya jumlah data latih lebih banyak dari data uji.\n",
        "Data uji sendiri digunakan saat kita akan melakukan pengukuran dari model yang kita buat. Teknik pengukurannya kita bahas di bawah\n",
        "\n",
        "Biasanya kita bagi data latih dan data uji itu antara 70:30 atau 80:20, untuk sekarang kita coba pakai 75:25. Untuk itu kita lakukan dengan bantuan sklearn"
      ]
    },
    {
      "cell_type": "code",
      "metadata": {
        "id": "9wMWx-_tqnZy",
        "colab_type": "code",
        "outputId": "9810cf83-eab9-446a-e7f7-312bcdd809dd",
        "colab": {
          "base_uri": "https://localhost:8080/",
          "height": 51
        }
      },
      "source": [
        "from sklearn.model_selection import train_test_split\n",
        "\n",
        "x_train, x_test, y_train, y_test = train_test_split(df, df.quality, train_size=0.75)\n",
        "\n",
        "print(\"kita memiliki data latih sebesar: \",len(x_train))\n",
        "print(\"kita memiliki data uji sebesar: \",len(x_test))"
      ],
      "execution_count": 0,
      "outputs": [
        {
          "output_type": "stream",
          "text": [
            "kita memiliki data latih sebesar:  3673\n",
            "kita memiliki data uji sebesar:  1225\n"
          ],
          "name": "stdout"
        }
      ]
    },
    {
      "cell_type": "markdown",
      "metadata": {
        "id": "tb41AebdqnZ2",
        "colab_type": "text"
      },
      "source": [
        "x_train dan y_train itu kita gunakan untuk latihan model."
      ]
    },
    {
      "cell_type": "markdown",
      "metadata": {
        "id": "zmuLz1GmqnZ3",
        "colab_type": "text"
      },
      "source": [
        "## 3. Latih model\n",
        "\n",
        "Proses pelatihan model ini dilakukan secara otomatis oleh sklearn, jadi prosesnya gak keliatan. Intinya, kita bisa melakukan pelatihan model dengan menggunakan algoritma yang berbeda tanpa harus paham mengenai proses yang berjalan di belakang layar. caranya pertama kita harus definiskan model, terus dari model itu kita "
      ]
    },
    {
      "cell_type": "code",
      "metadata": {
        "id": "720uzbW7qnZ4",
        "colab_type": "code",
        "outputId": "54b2f157-e574-4d45-f239-82076b395a31",
        "colab": {
          "base_uri": "https://localhost:8080/",
          "height": 51
        }
      },
      "source": [
        "from sklearn.svm import SVR\n",
        "\n",
        "model = SVR(gamma=\"scale\")#definisi model\n",
        "model.fit(x_train, y_train)"
      ],
      "execution_count": 0,
      "outputs": [
        {
          "output_type": "execute_result",
          "data": {
            "text/plain": [
              "SVR(C=1.0, cache_size=200, coef0=0.0, degree=3, epsilon=0.1, gamma='scale',\n",
              "    kernel='rbf', max_iter=-1, shrinking=True, tol=0.001, verbose=False)"
            ]
          },
          "metadata": {
            "tags": []
          },
          "execution_count": 4
        }
      ]
    },
    {
      "cell_type": "markdown",
      "metadata": {
        "id": "0n2X2rD9qnZ-",
        "colab_type": "text"
      },
      "source": [
        "## 4. Testing model (Scoring)\n",
        "Testing atau scoring kita gunakan sesuai dengan tujuan dan algoritma yang digunakan. Ada beberapa ukuran yang biasa digunakan, pertama akurasi, confussion_matrix, precission dan recall itu biasa digunakan untuk klasifikasi, ada juga Mean Square Error (MSE) dan Mean Error (ME) itu untuk regresi, untuk klastering biasanya kita gunakan distance. Karena kita sedang melakukan proses klasifikasi, kita coba pakai akurasi ya. caranya gampang"
      ]
    },
    {
      "cell_type": "code",
      "metadata": {
        "id": "VtFZRHcpqnZ_",
        "colab_type": "code",
        "outputId": "6c54a133-e897-491c-d84f-9633263f1132",
        "colab": {
          "base_uri": "https://localhost:8080/",
          "height": 34
        }
      },
      "source": [
        "model.score(x_test,y_test)"
      ],
      "execution_count": 0,
      "outputs": [
        {
          "output_type": "execute_result",
          "data": {
            "text/plain": [
              "0.46969232718429577"
            ]
          },
          "metadata": {
            "tags": []
          },
          "execution_count": 5
        }
      ]
    },
    {
      "cell_type": "markdown",
      "metadata": {
        "id": "1GUT9otrqnaC",
        "colab_type": "text"
      },
      "source": [
        "Nah proses utama (modeling) dalam data science itu cuma segini aja, gampang sih diterapkan, tapi agak sulit ketika kita harus membuat model dengan akurasi yang tinggi. Proses ini biasanya diulang-ulang dengan mengubah beberapa parameter. Bisa mengubah perbandingan antara data uji dg data latih, bisa juga mengubah parameter ketika kita definisikan model, atau malah mengubah dataset kita (lakukan preprocessing lagi). proses ini disebut _fine tuning_."
      ]
    },
    {
      "cell_type": "markdown",
      "metadata": {
        "id": "PdVYL-bMqnaD",
        "colab_type": "text"
      },
      "source": [
        "# Tantangan Untuk kamu\n",
        "Coba bikin model dengan algoritma yang berbeda dan data yang berbeda"
      ]
    }
  ]
}