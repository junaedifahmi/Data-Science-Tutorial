{
  "nbformat": 4,
  "nbformat_minor": 0,
  "metadata": {
    "colab": {
      "name": "Class and Functions.ipynb",
      "provenance": [],
      "collapsed_sections": [],
      "include_colab_link": true
    },
    "kernelspec": {
      "name": "python3",
      "display_name": "Python 3"
    }
  },
  "cells": [
    {
      "cell_type": "markdown",
      "metadata": {
        "id": "view-in-github",
        "colab_type": "text"
      },
      "source": [
        "<a href=\"https://colab.research.google.com/github/juunnn/Data-Science-Tutorial/blob/master/Class_and_Functions.ipynb\" target=\"_parent\"><img src=\"https://colab.research.google.com/assets/colab-badge.svg\" alt=\"Open In Colab\"/></a>"
      ]
    },
    {
      "cell_type": "markdown",
      "metadata": {
        "id": "BSPPH6fUHdm7",
        "colab_type": "text"
      },
      "source": [
        "# Function and Class\n",
        "\n"
      ]
    },
    {
      "cell_type": "markdown",
      "metadata": {
        "id": "JahyisZ0QGzO",
        "colab_type": "text"
      },
      "source": [
        "## Function\n",
        "Function adalah sebuah blok program yang berisi task tertentu. Fungsi hanya dibentuk sekali dan dapat digunakan berkali-kali.\n",
        "\n",
        "Kegunaan dari fungsi:\n",
        "1. Dapat digunakan berulang-ulang (reusability)\n",
        "2. Satu fungsi dapat digunakan di bagian manapun, bahkan program yang terpisah\n",
        "3. Program lebih mudah dibaca\n",
        "4. Dapat menjalankan suatu perintah tanpa mengetahui apa yang ada di isinya-hanya melalui nama (black box)\n",
        "5. Mengurangi terjadi error atau typo"
      ]
    },
    {
      "cell_type": "code",
      "metadata": {
        "id": "nnBuIb4zEMdB",
        "colab_type": "code",
        "colab": {}
      },
      "source": [
        "def function_name(parameters):\n",
        "    print(parameters)\n",
        "\n",
        "\n",
        "function_name(8)"
      ],
      "execution_count": 0,
      "outputs": []
    },
    {
      "cell_type": "markdown",
      "metadata": {
        "id": "pSteqMRiQugR",
        "colab_type": "text"
      },
      "source": [
        "### Function with Parameters\n",
        "\n"
      ]
    },
    {
      "cell_type": "code",
      "metadata": {
        "id": "TwSShhPIEWRc",
        "colab_type": "code",
        "colab": {}
      },
      "source": [
        "def get_the_smallest_number(numbers):\n",
        "    numbers.sort()\n",
        "    return numbers[0]\n",
        "\n",
        "print(get_the_smallest_number([9,2,5,6,7]))"
      ],
      "execution_count": 0,
      "outputs": []
    },
    {
      "cell_type": "markdown",
      "metadata": {
        "id": "EwzYyE9UTCMH",
        "colab_type": "text"
      },
      "source": [
        "### Function with default value of Parameters\n"
      ]
    },
    {
      "cell_type": "code",
      "metadata": {
        "id": "tmU_ORy9SX9t",
        "colab_type": "code",
        "colab": {}
      },
      "source": [
        "def get_person_id(name, age=18):\n",
        "    print(f\"This is {name}, they are {age} years old\")\n",
        "\n",
        "get_person_id(\"Situmorang\")\n",
        "get_person_id(\"Hatorangan\")\n",
        "get_person_id(\"Pangabean\", 24)\n",
        "get_person_id(\"Rajagukguk\", age=21)"
      ],
      "execution_count": 0,
      "outputs": []
    },
    {
      "cell_type": "markdown",
      "metadata": {
        "id": "kRwDXTvFQ7W3",
        "colab_type": "text"
      },
      "source": [
        "### Function without Parameters\n"
      ]
    },
    {
      "cell_type": "code",
      "metadata": {
        "id": "iQoWElzTQ_mB",
        "colab_type": "code",
        "colab": {}
      },
      "source": [
        "def printNames():\n",
        "    print(\"Priya\")\n",
        "    print(\"Krishna\")\n",
        "\n",
        "printNames()"
      ],
      "execution_count": 0,
      "outputs": []
    },
    {
      "cell_type": "markdown",
      "metadata": {
        "id": "3aoHGYhfRxzl",
        "colab_type": "text"
      },
      "source": [
        "### Function with no fix number of Parameters\n",
        "\n",
        "*args\n",
        "is interpreted as a _list_\n",
        "\n",
        "**kwargs\n",
        "is interpreted as a _dict_"
      ]
    },
    {
      "cell_type": "code",
      "metadata": {
        "id": "0HTLw5qHE4tM",
        "colab_type": "code",
        "colab": {}
      },
      "source": [
        "def sum_this(*numbers):\n",
        "    res = 0\n",
        "    for num in numbers:\n",
        "        res += num\n",
        "    return res\n",
        "\n",
        "print(sum_this(1,2,3,4,5))"
      ],
      "execution_count": 0,
      "outputs": []
    },
    {
      "cell_type": "code",
      "metadata": {
        "id": "YOzS7nfrUWXG",
        "colab_type": "code",
        "colab": {}
      },
      "source": [
        "def show_the_capital(**nations):\n",
        "    for capital, nation in nations.items():\n",
        "        print(f\"{capital} is the Capital of {nation}\")\n",
        "\n",
        "show_the_capital(jakarta=\"Indonesia\",bangkok=\"Thailand\",malaysia=\"Kuala Lumpur\")"
      ],
      "execution_count": 0,
      "outputs": []
    },
    {
      "cell_type": "markdown",
      "metadata": {
        "id": "aMxVj2AEYDjo",
        "colab_type": "text"
      },
      "source": [
        "### Function with or without return value"
      ]
    },
    {
      "cell_type": "code",
      "metadata": {
        "id": "8PVxdazbYLJm",
        "colab_type": "code",
        "colab": {}
      },
      "source": [
        "import random\n",
        "\n",
        "def get_random():\n",
        "    return random.choice([3,4,5,6,8,9,1,2,3,4,5,6,7,8,9])\n",
        "\n",
        "print(get_5_random())"
      ],
      "execution_count": 0,
      "outputs": []
    },
    {
      "cell_type": "code",
      "metadata": {
        "id": "RXssT9hPYmbV",
        "colab_type": "code",
        "colab": {}
      },
      "source": [
        "def sleep(sec):\n",
        "    for i in range(sec):\n",
        "        pass\n",
        "\n",
        "print(\"duar\")\n",
        "sleep(10**9)\n",
        "print(\"mewek\")"
      ],
      "execution_count": 0,
      "outputs": []
    },
    {
      "cell_type": "markdown",
      "metadata": {
        "id": "wPm9UzUkWzlk",
        "colab_type": "text"
      },
      "source": [
        "### Lambda\n",
        "\n",
        "Lambda adalah syntax pada function yang berfungsi untuk membuat anonymous function. Anonymous function adalah function yang tidak memiliki nama. Lambda hanya memiliki satu baris perintah dan satu nilai return saja."
      ]
    },
    {
      "cell_type": "code",
      "metadata": {
        "id": "Wc_2136YWUD-",
        "colab_type": "code",
        "colab": {}
      },
      "source": [
        "from math import log10\n",
        "fram =  lambda x: 1289*log10(x)\n",
        "\n",
        "fram(8)"
      ],
      "execution_count": 0,
      "outputs": []
    },
    {
      "cell_type": "markdown",
      "metadata": {
        "id": "TgbmfzgTVT9i",
        "colab_type": "text"
      },
      "source": [
        "## Decorator\n",
        "\n",
        "Decorator adalah fitur dalam Python yang sangat berguna untuk memodifikasi suatu fungsi tanpa mengubah isi function tersebut. Yang diperlukan hanyalah melewatkan fungsi yang ingin ditambahkan sebagai parameter dari sebuah decorator function.\n"
      ]
    },
    {
      "cell_type": "code",
      "metadata": {
        "id": "gdL7ZFYUFMDY",
        "colab_type": "code",
        "colab": {}
      },
      "source": [
        "def decorator(func):\n",
        "    def func_to_return():\n",
        "        print(\"This function using decorator\")\n",
        "        func()\n",
        "        print(\"yeye lalala\")\n",
        "\n",
        "    return func_to_return"
      ],
      "execution_count": 0,
      "outputs": []
    },
    {
      "cell_type": "code",
      "metadata": {
        "id": "uJS0hcseG_tF",
        "colab_type": "code",
        "colab": {}
      },
      "source": [
        "def Pprint():\n",
        "    print(\"number\")\n",
        "\n",
        "Pprint()"
      ],
      "execution_count": 0,
      "outputs": []
    },
    {
      "cell_type": "code",
      "metadata": {
        "id": "cIJefn6RHC5Y",
        "colab_type": "code",
        "colab": {}
      },
      "source": [
        "@decorator\n",
        "def Pprint():\n",
        "    print(\"number\")\n",
        "\n",
        "Pprint()"
      ],
      "execution_count": 0,
      "outputs": []
    },
    {
      "cell_type": "markdown",
      "metadata": {
        "id": "9Qz9PtGbVok6",
        "colab_type": "text"
      },
      "source": [
        "## Object Oriented Programming\n",
        "\n",
        "Class dikenal dalam konsep Object-oriented Programming (OOP). OOP adalah konsep pemrograman yang memiliki pemahaman bahwa pemrograman terorganisasi atas objek dan data, bukan fungsi dan logika.\n",
        "\n",
        "Class dapat disebut sebagai blueprint dari objek.\n",
        "\n",
        "Sebuah class terdiri dari attribute dan method. Attribute adalah variabel-variabel yang dimiliki oleh sebuah class. Method adalah fungsi-fungsi yang dimiliki oleh class.\n",
        "\n",
        "Method yang wajib ada pada suatu class adalah constructor. Constructor adalah method yang berfungsi untuk membuat objek (instansiasi) dari class.\n"
      ]
    },
    {
      "cell_type": "code",
      "metadata": {
        "id": "T3a5H0N49Ydu",
        "colab_type": "code",
        "colab": {}
      },
      "source": [
        "class Pariya(object):\n",
        "    def __init__(self,name):\n",
        "        self.wealth = \"poor\"\n",
        "        self.wifes = 1\n",
        "        self.tittle = \"\"\n",
        "        self.name = name\n",
        "\n",
        "    def work(self, jobs):\n",
        "        print(self.name, \"works at the\", jobs)\n",
        "\n",
        "    def __str__(self):\n",
        "        return self.name"
      ],
      "execution_count": 0,
      "outputs": []
    },
    {
      "cell_type": "code",
      "metadata": {
        "id": "pdhgkUnT-U_M",
        "colab_type": "code",
        "outputId": "f849de1d-fd15-4cdd-f1b6-f1883957e9f4",
        "colab": {
          "base_uri": "https://localhost:8080/",
          "height": 51
        }
      },
      "source": [
        "krishna = Pariya(\"Krishna\")\n",
        "\n",
        "print(krishna)\n",
        "krishna.work(\"Field\")"
      ],
      "execution_count": 27,
      "outputs": [
        {
          "output_type": "stream",
          "text": [
            "Krishna\n",
            "Krishna works at Field\n"
          ],
          "name": "stdout"
        }
      ]
    },
    {
      "cell_type": "code",
      "metadata": {
        "id": "RXSwLNDo-ucA",
        "colab_type": "code",
        "colab": {}
      },
      "source": [
        "class Ariya:\n",
        "    def __init__(self, name):\n",
        "        self.wealth = \"good\"\n",
        "        self.wifes = \"3\"\n",
        "        self.tittle = \"Lord\"\n",
        "        self.name = name\n",
        "\n",
        "    def work(self, jobs):\n",
        "        print(self.tittle, self.name, \"works at\", jobs)\n",
        "\n",
        "    def __str__(self):\n",
        "        return \"Acha, my name is \"+self.name"
      ],
      "execution_count": 0,
      "outputs": []
    },
    {
      "cell_type": "code",
      "metadata": {
        "id": "3wddY6vxAd8g",
        "colab_type": "code",
        "colab": {}
      },
      "source": [
        "priya = Ariya(\"Priya\")"
      ],
      "execution_count": 0,
      "outputs": []
    },
    {
      "cell_type": "code",
      "metadata": {
        "id": "fFJOW5EqAnzl",
        "colab_type": "code",
        "colab": {}
      },
      "source": [
        "print(priya)"
      ],
      "execution_count": 0,
      "outputs": []
    },
    {
      "cell_type": "markdown",
      "metadata": {
        "id": "2pP92or6V86L",
        "colab_type": "text"
      },
      "source": [
        "### Inheritance\n",
        "\n",
        "Inheritance (pewarisan) adalah salah satu konsep OOP dimana class memiliki hubungan parent dan children. Class parent mewarisi attribute dan method ke class children.\n"
      ]
    },
    {
      "cell_type": "markdown",
      "metadata": {
        "id": "8m9F2EalWJ3A",
        "colab_type": "text"
      },
      "source": [
        "### Polymorphism\n",
        "Polymorphism berarti banyak bentuk. Class children yang diwarisi oleh children dapat memodifikasi implementasi class parent tanpa mengubah isi dari class parent"
      ]
    },
    {
      "cell_type": "code",
      "metadata": {
        "id": "FZSq_xmvApc_",
        "colab_type": "code",
        "colab": {}
      },
      "source": [
        "class Manusia:\n",
        "    def __init__(self, name,tittle = \"\"):\n",
        "        self.name = name\n",
        "        self.tittle = tittle\n",
        "\n",
        "    def work(self, jobs):\n",
        "        print(self.tittle, self.name, \"works at\", jobs)\n",
        "\n",
        "    def __str__(self):\n",
        "        return \"Acha, my name is \"+self.name\n",
        "\n",
        "class Sudra(Manusia):\n",
        "    def __init__(self, name):\n",
        "        super().__init__(name,\"Koh\")\n",
        "        self.wealth = \"good\"\n",
        "        self.wifes = \"4\""
      ],
      "execution_count": 0,
      "outputs": []
    },
    {
      "cell_type": "code",
      "metadata": {
        "id": "Hn-ehFnaBxTP",
        "colab_type": "code",
        "colab": {}
      },
      "source": [
        "kim_jong_un = Sudra(\"Kim Jong Un\")"
      ],
      "execution_count": 0,
      "outputs": []
    },
    {
      "cell_type": "code",
      "metadata": {
        "id": "u0vf0oU3B6mp",
        "colab_type": "code",
        "colab": {}
      },
      "source": [
        "print(kim_jong_un)"
      ],
      "execution_count": 0,
      "outputs": []
    },
    {
      "cell_type": "code",
      "metadata": {
        "id": "2AYwJJFbCDV6",
        "colab_type": "code",
        "colab": {}
      },
      "source": [
        "kim_jong_un.work(\"BigHit\")"
      ],
      "execution_count": 0,
      "outputs": []
    }
  ]
}