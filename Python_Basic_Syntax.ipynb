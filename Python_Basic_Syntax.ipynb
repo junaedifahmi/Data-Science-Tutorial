{
  "nbformat": 4,
  "nbformat_minor": 0,
  "metadata": {
    "colab": {
      "private_outputs": true,
      "provenance": [],
      "toc_visible": true,
      "authorship_tag": "ABX9TyNdnxm7OO/8z6gtYVlQCuCj",
      "include_colab_link": true
    },
    "kernelspec": {
      "name": "python3",
      "display_name": "Python 3"
    },
    "language_info": {
      "name": "python"
    }
  },
  "cells": [
    {
      "cell_type": "markdown",
      "metadata": {
        "id": "view-in-github",
        "colab_type": "text"
      },
      "source": [
        "<a href=\"https://colab.research.google.com/github/junaedifahmi/Data-Science-Tutorial/blob/master/Python_Basic_Syntax.ipynb\" target=\"_parent\"><img src=\"https://colab.research.google.com/assets/colab-badge.svg\" alt=\"Open In Colab\"/></a>"
      ]
    },
    {
      "cell_type": "markdown",
      "source": [
        "# Python Basic Syntax\n",
        "\n",
        "Python sangat berguna dalam pengembangan machine-learning maupun data science secara global. Python mengizinkan untuk membuat seemless transition from development to deployment. \n",
        "\n",
        "Python merupakan bahasa intertpreter sehingga memudahkan dalam mengeksplorasi data karena tidak perlu kompilasi. Dalam eksplorasi data, yang merupakan salah satu step dalam machine learning, tidak ada logika yang pasti sehingga bahasa pemrograman yang dinamic dan cepat dalam meng-handle perubahan diperlukan. \n",
        "\n",
        "\n",
        "Secara umum, python memiliki kapabilitas yang sama dengan bahasa pemrograman lain, seperti operasi aritmatika, operasi perbandingan logika, percabangan, perulangan, maupun fungsi dan kelas. \n",
        "\n",
        "Untuk seorang pemrogamer yang sudah belajar logika pemrograman akan sangat mudah beralih dari bahasa pemrogaram tersebut ke bahasa permrograman python. "
      ],
      "metadata": {
        "id": "5Yz-54dFph5F"
      }
    },
    {
      "cell_type": "markdown",
      "source": [
        "## Variable\n",
        "\n",
        "Penamaan variable dalam python merupakan case sensitive, perbedaan huruf besar dan huruf kecil akan menyebabkan interpretasi yang berbeda. \n",
        "Aturan pernamaan pada python kurang lebih sama seperti bahasa pemrograman yang lain yaitu:\n",
        "1. Tidak diawali dengan angka, simbol **kecuali** garis bawah (_)\n",
        "2. Panjang nama variable tidak melebihi 255 character\n",
        "\n",
        "### naming convention\n",
        "Naming convention adalah guide untuk memberikan nama variable sesuai kesepakatan tidak tertulis. Beberapa hal yang dapat diatur melalui naming covention adalah.\n",
        "\n",
        "1. Penamaan kelas diawali dengan huruf `Kapital` atau `TitleCase`.\n",
        "2. Penamaan fungsi sebisa mungkin menggunakan `snake_case` dan masih menggunakan huruf kecil\n",
        "3. Penamaan variable local menggunakan `lower_case`, sedangkan variable global menggunakan `UPPER_CASE`\n",
        "4. Untuk variable yang diabaikan menggunakan underscore `_`\n",
        "5. Penamaan method private diawali dengan `_underscore`\n",
        "6. Penamaan method built-in diawali dengan `__double_underscore__`\n",
        "\n",
        "\n",
        "Dalam python tipe data dari variable tidak secara eksplisit ditentukan, sehingga dapat memudahkan beberapa kemungkinan yang akan terjadi. \n",
        "\n"
      ],
      "metadata": {
        "id": "lf_-QGp2q9e7"
      }
    },
    {
      "cell_type": "code",
      "execution_count": null,
      "metadata": {
        "id": "BwM7Vfltpejy"
      },
      "outputs": [],
      "source": [
        "nama_variable_lokal = \"12\""
      ]
    },
    {
      "cell_type": "code",
      "source": [
        "NamaKelas = \"boleh tapi frown uppon\""
      ],
      "metadata": {
        "id": "z36bucARsnUA"
      },
      "execution_count": null,
      "outputs": []
    },
    {
      "cell_type": "code",
      "source": [
        "_variable_lain = \"ini juga bisa cuma gak biasa aja\""
      ],
      "metadata": {
        "id": "wzEAEiYeuyl2"
      },
      "execution_count": null,
      "outputs": []
    },
    {
      "cell_type": "code",
      "source": [],
      "metadata": {
        "id": "B41t2BHru3cA"
      },
      "execution_count": null,
      "outputs": []
    },
    {
      "cell_type": "markdown",
      "source": [
        "## Data Types\n",
        "\n",
        "Tipe data dalam python tidak dideklarasikan secara eksplisit sehingga sebisa mungkin kita dapat menggunakan nama variable yang mengisyaratkan tentang tipe data tersebut. \n",
        "\n",
        "Tipe data tradisional seperti, `int`, `float`, `str` adalah tipe data yang sama dengan kebanyakan tipe data yang lain, akan tetapi dalam python kita tidak mengenal array. Tipe data yang mirip dengan array, meskipun tetap berbeda baik dalam method maupun kegunaannya, adalah list."
      ],
      "metadata": {
        "id": "C_OxNw6ru6mp"
      }
    },
    {
      "cell_type": "markdown",
      "source": [
        "### List\n",
        "\n",
        "List adalah sebuah tipe data python dimana beberapa data digabungkan dalam satu varibale. Dalam list tidak ada batasan mengenai tipe data apa yang dapat ditampung dalam satu list, sehingga list dapat mendukung beberapa tipe data dan mendukung nesting.\n",
        "\n",
        "Deklarasi list kosong jarang sekali dilakukan, meskipun dapat dilakukan, sehingga banyak list yang tidak secara eksplisit dideklarasikan. \n",
        "\n",
        "Ciri-ciri list adalah penggunaan kurung siku `[` `]`, dan setiap anggota atau item nya dipisahkan dengan koma.\n",
        "\n",
        "Contoh penggunaan list adalah sebagai berikut:"
      ],
      "metadata": {
        "id": "1lZNPT95vgkt"
      }
    },
    {
      "cell_type": "code",
      "source": [
        "keranjang = [\"tahu\", \"jeruk\", 6.2, 5, [\"barang lain\"] ]"
      ],
      "metadata": {
        "id": "Ci9P9HY3vfju"
      },
      "execution_count": null,
      "outputs": []
    },
    {
      "cell_type": "code",
      "source": [
        "# deklarasi list kosong\n",
        "\n",
        "keranjang_baru = list()\n",
        "keranjang_baru = []"
      ],
      "metadata": {
        "id": "1oHyuEnLwVEZ"
      },
      "execution_count": null,
      "outputs": []
    },
    {
      "cell_type": "code",
      "source": [
        "# menambahkan item ke eksisting list\n",
        "\n",
        "keranjang_baru.append(\"buah\")\n",
        "keranjang_baru"
      ],
      "metadata": {
        "id": "nYSSXr-Hwj7q"
      },
      "execution_count": null,
      "outputs": []
    },
    {
      "cell_type": "code",
      "source": [
        "# menambahkan item dengan tipe variable lain ke dalam list\n",
        "keranjang_baru.append(6*2)\n",
        "keranjang_baru"
      ],
      "metadata": {
        "id": "i6Csbnigwm0r"
      },
      "execution_count": null,
      "outputs": []
    },
    {
      "cell_type": "code",
      "source": [
        "# akses list menggunakan indeks\n",
        "\n",
        "print(keranjang[2])\n",
        "\n",
        "# akses list dari belakang dengan menggunakan notasi negative\n",
        "print(keranjang[-1])"
      ],
      "metadata": {
        "id": "iszyiFzowuAL"
      },
      "execution_count": null,
      "outputs": []
    },
    {
      "cell_type": "code",
      "source": [
        "# slicing, mengakses beberapa item dalam list\n",
        "\n",
        "keranjang[2:]"
      ],
      "metadata": {
        "id": "_lQUV_TaxLZ3"
      },
      "execution_count": null,
      "outputs": []
    },
    {
      "cell_type": "code",
      "source": [
        "keranjang[:-2]"
      ],
      "metadata": {
        "id": "m0a5YCOuxa_o"
      },
      "execution_count": null,
      "outputs": []
    },
    {
      "cell_type": "code",
      "source": [
        "# mengurangi item dengan cara pop\n",
        "\n",
        "print(len(keranjang))\n",
        "x = keranjang.pop()\n",
        "print(x)\n",
        "print(len(keranjang))"
      ],
      "metadata": {
        "id": "DRc5o2oXyGl0"
      },
      "execution_count": null,
      "outputs": []
    },
    {
      "cell_type": "markdown",
      "source": [
        "### Tuple\n",
        "\n",
        "Tuple adalah list yang item nya tidak dapat ditambah atau dikurangi. Beberapa method tuple mirip dengan list tetapi berbeda dengan "
      ],
      "metadata": {
        "id": "eJFkaXBNxgnA"
      }
    },
    {
      "cell_type": "code",
      "source": [
        "new_tup = (2, 3, \"dua\")\n",
        "new_tup"
      ],
      "metadata": {
        "id": "J28hUZeMxcyF"
      },
      "execution_count": null,
      "outputs": []
    },
    {
      "cell_type": "code",
      "source": [
        "new_tup.pop()"
      ],
      "metadata": {
        "id": "OhM8GKBAx3q0"
      },
      "execution_count": null,
      "outputs": []
    },
    {
      "cell_type": "code",
      "source": [],
      "metadata": {
        "id": "ZeK7bLKgx5XH"
      },
      "execution_count": null,
      "outputs": []
    },
    {
      "cell_type": "markdown",
      "source": [
        "### Dictionary\n",
        "\n",
        "\n",
        "Dictionary adalah mapping key dengan value. \n",
        "\n",
        "deklarasi dictionary dapat berupa "
      ],
      "metadata": {
        "id": "jkma2lnSyn2n"
      }
    },
    {
      "cell_type": "code",
      "source": [
        "usia_penduduk = {\n",
        "    \"ari\" : 12.8,\n",
        "    \"ira\" : 12.7,\n",
        "    \"ria\" : 12\n",
        "}"
      ],
      "metadata": {
        "id": "61WgnLBoy3dY"
      },
      "execution_count": null,
      "outputs": []
    },
    {
      "cell_type": "code",
      "source": [
        "# mengakses value dengan cara memanggil key \n",
        "\n",
        "usia_penduduk[\"ria\"]"
      ],
      "metadata": {
        "id": "37MKPrE8zEn_"
      },
      "execution_count": null,
      "outputs": []
    },
    {
      "cell_type": "code",
      "source": [
        "for k, v in usia_penduduk.items():\n",
        "  print(\"ini key nya\", k, end=\" | \")\n",
        "  print(\"ini value nya\", v)"
      ],
      "metadata": {
        "id": "OU3cVGouzLVx"
      },
      "execution_count": null,
      "outputs": []
    },
    {
      "cell_type": "markdown",
      "source": [
        "### Set\n",
        "\n",
        "set adalah salah satu tipe data yang menghimpun item yang tidak diperbolehkan adanya duplikasi. "
      ],
      "metadata": {
        "id": "wrZqPw88zex1"
      }
    },
    {
      "cell_type": "code",
      "source": [
        "contoh_set = { \"dua\", \"dua\", \"tiga\", \"satu\" }\n",
        "print(contoh_set)"
      ],
      "metadata": {
        "id": "0tecSPUUzcL5"
      },
      "execution_count": null,
      "outputs": []
    },
    {
      "cell_type": "code",
      "source": [
        "for i in contoh_set:\n",
        "  print(i)"
      ],
      "metadata": {
        "id": "VgxpamdLzUIV"
      },
      "execution_count": null,
      "outputs": []
    },
    {
      "cell_type": "markdown",
      "source": [
        "## Operasi Aritmatika\n",
        "\n",
        "Operasi aritmatika kurang lebih sama dengan bahasa pemrograman lain. Contoh operasi aritmatika adalah, penambahan (+), pengurangan (-), pembagian (/), perkalian (\\*), floor division (pembulatan ke bawah) (//), pemangkatan (**)"
      ],
      "metadata": {
        "id": "uLWmNXcu0KEz"
      }
    },
    {
      "cell_type": "code",
      "source": [
        "4 * 2"
      ],
      "metadata": {
        "id": "r_K2l-MJzyJz"
      },
      "execution_count": null,
      "outputs": []
    },
    {
      "cell_type": "code",
      "source": [
        "4.0 * 2"
      ],
      "metadata": {
        "id": "jMAztpgXEp6m"
      },
      "execution_count": null,
      "outputs": []
    },
    {
      "cell_type": "code",
      "source": [
        "4e5 * 5"
      ],
      "metadata": {
        "id": "xx9eAB8eEuGM"
      },
      "execution_count": null,
      "outputs": []
    },
    {
      "cell_type": "code",
      "source": [
        "4e-2 *5"
      ],
      "metadata": {
        "id": "8Pu-N6S6EyDq"
      },
      "execution_count": null,
      "outputs": []
    },
    {
      "cell_type": "code",
      "source": [
        "4e-2 / 5"
      ],
      "metadata": {
        "id": "-gLwbBgXE092"
      },
      "execution_count": null,
      "outputs": []
    },
    {
      "cell_type": "code",
      "source": [
        "4e-2 // 5"
      ],
      "metadata": {
        "id": "sN-KfTOgFKnD"
      },
      "execution_count": null,
      "outputs": []
    },
    {
      "cell_type": "code",
      "source": [
        "2**5"
      ],
      "metadata": {
        "id": "-j-MLtD9FMMR"
      },
      "execution_count": null,
      "outputs": []
    },
    {
      "cell_type": "code",
      "source": [],
      "metadata": {
        "id": "_mywVqPeFN36"
      },
      "execution_count": null,
      "outputs": []
    }
  ]
}